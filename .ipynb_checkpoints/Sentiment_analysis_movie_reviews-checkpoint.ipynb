{
 "cells": [
  {
   "cell_type": "code",
   "execution_count": 69,
   "metadata": {},
   "outputs": [
    {
     "name": "stderr",
     "output_type": "stream",
     "text": [
      "[nltk_data] Downloading package stopwords to\n",
      "[nltk_data]     /Users/liangyew/nltk_data...\n",
      "[nltk_data]   Package stopwords is already up-to-date!\n"
     ]
    }
   ],
   "source": [
    "from __future__ import division\n",
    "from collections import Counter # Counter() is a dict for counting\n",
    "from collections import defaultdict\n",
    "import copy\n",
    "import numpy as np\n",
    "import pandas as pd\n",
    "from nltk.corpus import stopwords\n",
    "import nltk\n",
    "nltk.download('stopwords')\n",
    "import csv\n"
   ]
  },
  {
   "cell_type": "code",
   "execution_count": 70,
   "metadata": {},
   "outputs": [],
   "source": [
    "sl=stopwords.words('english')\n",
    "# chosen words for the stoplist\n",
    "sl+=['new','could','made','make','makes','characters','full','give','scenes','human',\"john\",\"classic\",\"cast\",\"little\",\"true\",\"life\",\"elements\",\"comes\",\"ultimately\",\"far\",\"pretty\",\"minutes\",\"want\",\"message\",\"material\",\"together\",\"short\",\"dark\",\"kind\",\"tale\",\"young\",\"family\",\"script\",\"original\",\"character\",\"old\",\"style\",\"melodrama\",\"version\",\"hollywood\",\"subject\",\"audience\",\"premise\",\"american\",\"performance\",\"director\",\"picture\",\"big\",\"'ll\",\"even\",\"right\",\"women\",\"11\",\"boy\",\"us\",\"'d\",'time','story','something','one','van','de','david','business','black','people','movies','films',\"like\",\"man\",\"see\",\"comedy\",\"thriller\",\"action\",\"men\",'two',\"'re\",\"ca\",'work',\"?\",\";\",\"''\",\":\",\",\",\".\",\"'s\",\"--\",\"``\",\"n't\",\"-\",\"'\",\"`\",\"...\"]\n"
   ]
  },
  {
   "cell_type": "code",
   "execution_count": 71,
   "metadata": {},
   "outputs": [],
   "source": [
    "class model:\n",
    "    def __init__(self,num=0,f=0,stop=False,test_dev=None):\n",
    "        '''\n",
    "        returns a model based on the number of classes , number of most common features selected to be removed,\n",
    "        whether a stoplist is implemented, whether the data is test or dev\n",
    "        \n",
    "        Parameters\n",
    "        num:3 or 5 classes\n",
    "        f=How many least common features to remove\n",
    "        stop(Boolean):whether a stoplist should be used\n",
    "        test_dev (String): 'test' or 'dev'\n",
    "        \n",
    "        \n",
    "        '''\n",
    "        #parameters for the {id:sentiment} dictionary for the id_sentiment function\n",
    "        self.t='train'\n",
    "        self.d='dev'\n",
    "        \n",
    "        \n",
    "        \n",
    "        self.test_dev=test_dev\n",
    "        if stop==True:\n",
    "            self.stoplist= sl\n",
    "        else:\n",
    "            self.stoplist=[]\n",
    "        # returns{sentiment_score:{word:count}} and a dict of all words and their count (train)\n",
    "        self.sent_phrase,self.word_total= self.sentim_words(num,f,stop)\n",
    "        #return set containing unique words\n",
    "        self.unique=self.unique()\n",
    "         #returns the {id:{word:count}}(dev)\n",
    "        self.dev_c = self.dev_count()\n",
    "        #return {id:sentiment_score} for dev and train depending on parameters\n",
    "        self.id_senti=self.id_sentiment(num,stop,self.d)\n",
    "        self.id_senti_train= self.id_sentiment(num,stop,self.t)\n",
    "\n",
    "    import re\n",
    "    def sentim_words(self,num,f,stop):\n",
    "      '''\n",
    "      f: number equivalent to the least common features to remove\n",
    "      num: score 3 or 5\n",
    "      list is sorted from most common to least common.  assumption that in a movie review\n",
    "      words  that are least common are names, and things that are specific to a particular movie\n",
    "      and thus would not be  helpful in determining the polarity of a movie based on their presence.    \n",
    "      '''\n",
    "      col=['Phrase','Sentiment']\n",
    "      senti_words=defaultdict(Counter);\n",
    "      word_all=Counter()\n",
    "      ddf = pd.read_csv('moviereviews/train.tsv',delimiter='\\t', usecols=col);\n",
    "      st=self.stoplist\n",
    "      \n",
    "      #converts sentiment score to specification if num is 3 and then create a sentiment:{word:count} dictionary\n",
    "      #otherwise create sentiment:{word:count} with original scores.\n",
    "      for phrase, sentiment in ddf.itertuples(index=False):\n",
    "          words= phrase.lower().strip().split()\n",
    "\n",
    "          swords=[word for word in words if word not in st]\n",
    "\n",
    "          if num == 3:\n",
    "              if sentiment == 3 or sentiment == 4:\n",
    "                sentiment = 2\n",
    "              elif sentiment == 2:\n",
    "                sentiment = 1\n",
    "              elif sentiment ==1 or sentiment == 0:\n",
    "                sentiment = 0\n",
    "              for word in swords:\n",
    "                senti_words[sentiment][word]+=1\n",
    "                word_all[word]+=1           \n",
    "\n",
    "          elif num == 5:\n",
    "              for word in swords:\n",
    "                senti_words[sentiment][word]+=1\n",
    "                word_all[word]+=1\n",
    "    \n",
    "      # is f == 0 , return dictionary with counter nested dictionary converted to dictionary   \n",
    "      if f==0:\n",
    "        senti_words={k:dict(v) for k,v in senti_words.items()}\n",
    "        \n",
    "        return dict(senti_words), dict(word_all)\n",
    "      # remove the specified number of least common features from the dictionary. Common words are determined by their \n",
    "      #  counts\n",
    "      else:\n",
    "        senti_words={k:dict(v) for k,v in senti_words.items()}\n",
    "\n",
    "\n",
    "\n",
    "        for k,v in senti_words.items():\n",
    "              d = sorted(v.items(), key=lambda x: x[1])\n",
    "        common = d[:f]\n",
    "\n",
    "        for tup in common:\n",
    "              for k,v in senti_words.items(): \n",
    "                  v.pop(tup[0],None)\n",
    "        reduced=Counter()\n",
    "        for k,v in senti_words.items():\n",
    "            for kk,vv in v.items():\n",
    "                reduced[kk]+=vv\n",
    "        return dict(senti_words),reduced\n",
    "    \n",
    "    #returns a set of unique words   \n",
    "    def unique(self):\n",
    "        \n",
    "        total_u = set({})\n",
    "        for k,v in self.sent_phrase.items():\n",
    "          for kk in v.keys():\n",
    "            total_u.add(kk)\n",
    "        return total_u\n",
    "        \n",
    "   \n",
    "    def dev_count(self):\n",
    "        '''\n",
    "        returns a dictionary {sentenceId:{word:count}} dictionary for the dev data or test data\n",
    "        depending of self.test_dev attribute\n",
    "        \n",
    "        '''\n",
    "        col=['SentenceId','Phrase']\n",
    "        co=defaultdict(Counter)\n",
    "        if self.test_dev=='dev':\n",
    "          df = pd.read_csv('moviereviews/dev.tsv',delimiter='\\t', usecols=col)\n",
    "         \n",
    "        elif self.test_dev=='test':\n",
    "          df = pd.read_csv('moviereviews/test.tsv',delimiter='\\t', usecols=col)\n",
    "            \n",
    "        st=self.stoplist\n",
    "            \n",
    "        # accounts for empty phrases by inserting an empty string\n",
    "        words=[]\n",
    "        for sentenceId,phrase in df.itertuples(index=False):\n",
    "            if phrase ==' ':\n",
    "                words=[' ']\n",
    "            else:\n",
    "                \n",
    "                words= phrase.lower().strip().split()\n",
    "           \n",
    "            for word in words:\n",
    "              co[sentenceId][word]+=1\n",
    "          \n",
    "            dev_count={}\n",
    "            for k,v in co.items():\n",
    "                dev_count[k]=dict(v)\n",
    "                \n",
    "        #removes a term from a sentenceID if it is in stoplist and \n",
    "        #if length of sentenceID dictionary is greater than 1\n",
    "        #otherwise continue\n",
    "               \n",
    "        for k,v in dev_count.items():\n",
    "            vi=v.copy()\n",
    "            for kk,vv in v.items():\n",
    "              if kk in st and len(vi)>1:\n",
    "                vi.pop(kk,None)\n",
    "              else:\n",
    "                continue\n",
    "              dev_count[k]=vi\n",
    "        \n",
    "        dc=dev_count.copy()\n",
    "    \n",
    "        return dict(dc)\n",
    "  \n",
    "    def id_sentiment(self,num,stop,train):\n",
    "        '''\n",
    "        returns {sentenceId:sentiment_score} dictionary of the dev data \n",
    "    \n",
    "        num: score 3 or 5\n",
    "        stop:stoplist    \n",
    "        '''\n",
    "     \n",
    "        score={}\n",
    "        col2 = ['SentenceId','Sentiment']\n",
    "        if train == 'train':\n",
    "          ids=copy.deepcopy(score)\n",
    "          dff = pd.read_csv('moviereviews/train.tsv',delimiter='\\t', usecols=col2)\n",
    "        elif train =='dev':\n",
    "          ids=copy.deepcopy(score)\n",
    "          dff = pd.read_csv('moviereviews/dev.tsv',delimiter='\\t', usecols=col2)\n",
    "      \n",
    "        if num == 3:\n",
    "           for sentenceId,sentiment in dff.itertuples(index=False):\n",
    "              if sentiment == 3 or sentiment == 4:\n",
    "                sentiment = 2\n",
    "\n",
    "              elif sentiment == 2:\n",
    "                sentiment = 1\n",
    "\n",
    "              elif sentiment ==1 or sentiment == 0:\n",
    "                sentiment = 0\n",
    "              ids[sentenceId]= sentiment\n",
    "\n",
    "           return ids\n",
    "            \n",
    "        elif num == 5:\n",
    "          for sentenceId,sentiment in dff.itertuples(index=False):\n",
    "            ids[sentenceId]= sentiment                   \n",
    "      \n",
    "          return ids   "
   ]
  },
  {
   "cell_type": "code",
   "execution_count": 72,
   "metadata": {},
   "outputs": [
    {
     "name": "stdout",
     "output_type": "stream",
     "text": [
      "[('comic', 53), ('away', 53), ('actually', 53), ('kids', 54), ('going', 55), ('takes', 55), ('keep', 55), ('special', 55), ('music', 56), ('least', 56), ('last', 56), ('emotional', 57), ('think', 58), ('cinema', 58), ('compelling', 60), ('gives', 60), ('dialogue', 61), ('seem', 61), ('gets', 61), ('years', 62), ('times', 62), ('back', 63), ('works', 63), ('acting', 63), ('actors', 64), ('making', 64), ('despite', 65), ('come', 65), ('find', 68), ('romantic', 68), ('year', 68), ('watching', 69), ('take', 69), ('go', 70), ('things', 70), ('seen', 70), ('screen', 71), ('watch', 71), ('worth', 73), ('interesting', 75), ('heart', 76), ('rather', 76), ('lot', 76), (\"'ve\", 77), ('moments', 78), ('!', 78), ('quite', 78), ('almost', 80), ('documentary', 80), ('hard', 81), ('feels', 81), ('entertaining', 81), ('seems', 83), ('end', 83), ('humor', 84), ('often', 84), ('thing', 85), ('world', 86), ('get', 86), ('yet', 86), ('real', 88), ('less', 90), ('fun', 90), ('sense', 91), ('ever', 91), ('might', 93), ('long', 93), ('feel', 93), ('first', 95), ('though', 95), ('another', 97), ('also', 100), ('every', 103), ('great', 103), ('still', 104), ('performances', 108), ('nothing', 110), ('look', 111), ('plot', 112), ('better', 114), ('without', 117), ('drama', 119), ('really', 121), ('many', 122), ('well', 130), ('best', 136), ('bad', 143), ('love', 157), ('enough', 159), ('may', 161), ('would', 166), ('never', 173), ('way', 178), ('funny', 197), ('good', 230), ('much', 230), ('-lrb-', 315), ('-rrb-', 315), ('movie', 857), ('film', 1005)]\n"
     ]
    }
   ],
   "source": [
    "# Used to find the most and least common words in the train data.\n",
    "\n",
    "m=model(5,0,True,'dev')\n",
    "#print(m.id_senti_train)\n",
    "dev=m.sent_phrase\n",
    "\n",
    "\n",
    "#print(dev)\n",
    "w=Counter()\n",
    "\n",
    "for k,v in dev.items():\n",
    "    for kk,vv in v.items():\n",
    "        w[kk]+=vv\n",
    "        \n",
    "d = sorted(w.items(), key=lambda x: x[1])"
   ]
  },
  {
   "cell_type": "code",
   "execution_count": 73,
   "metadata": {},
   "outputs": [],
   "source": [
    "import math\n",
    "import copy\n",
    "class bayesian:\n",
    "    \n",
    "   \n",
    "    \n",
    "    def __init__(self,num,sentiment_feature,id_sentiment,word_u):\n",
    "        '''\n",
    "        class bayesian calculates the the priors for the sentiment classes and the liklihood for each word \n",
    "        given a sentiment class parameters\n",
    "        num: classes 3 or 5\n",
    "        sentiment_feature: {score:{word:count}} dictionary of test data\n",
    "        word_u : unique words in the train data. Used for laplacian smoothing\n",
    "        '''\n",
    "        self.V=len(word_u)\n",
    "        self.num=num\n",
    "        self.s_f=copy.deepcopy(sentiment_feature)\n",
    "        self.i_s=copy.deepcopy(id_sentiment)\n",
    "        if self.num ==3:      \n",
    "           self.total_z,self.total_o,self.total_t=self.total()    \n",
    "           self.totalwords= self.total_z+self.total_o+self.total_t\n",
    "           self.prior0,self.prior1,self.prior2 = self.priors()\n",
    "           self.ld = self.likelihood()                 \n",
    "        if self.num == 5:  \n",
    "           self.total_z,self.total_o, self.total_t , self.total_tr,self.total_f=self.total()\n",
    "           self.totalwords=self.total_z+self.total_o+self.total_t+self.total_tr+self.total_f\n",
    "           self.prior0,self.prior1,self.prior2,self.prior3,self.prior4 = self.priors()\n",
    "           self.ld = self.likelihood()\n",
    "             \n",
    "    def total(self):\n",
    "      '''\n",
    "      counts the total occurences of a class depending on if its a 5 class model or 3 class model\n",
    "      '''     \n",
    "      if self.num ==3:\n",
    "        c=Counter()\n",
    "        for k,v in self.i_s.items():\n",
    "            c[v]+=1\n",
    "        total_z=c[0]\n",
    "        total_o=c[1]\n",
    "        total_t=c[2]\n",
    "        return  total_z,total_o, total_t\n",
    "\n",
    "      elif self.num == 5:\n",
    "        c5=Counter()  \n",
    "        for k,v in self.i_s.items():\n",
    "            c5[v]+=1\n",
    "        total_z=c5[0]\n",
    "        total_o=c5[1]\n",
    "        total_t=c5[2]\n",
    "        total_tr=c5[3]\n",
    "        total_f=c5[4]  \n",
    "        return total_z,total_o, total_t , total_tr,total_f  \n",
    "    \n",
    "    def priors(self):\n",
    "          '''\n",
    "          uses total occurences of a class and total occurences of all classes\n",
    "          to calculate the priors for each class, and depending on whether the model specified is the 3 class model\n",
    "          or the original 5 class model\n",
    "          '''\n",
    "          if self.num ==3:\n",
    "            prob_one=math.log10(self.total_o/self.totalwords)\n",
    "            prob_two=math.log10(self.total_t/self.totalwords)\n",
    "            prob_zero=math.log10(self.total_z/self.totalwords)\n",
    "            return prob_zero, prob_one,prob_two\n",
    "          if self.num ==5:\n",
    "         \n",
    "            prob_one=math.log10(self.total_o/self.totalwords)\n",
    "            prob_two=math.log10(self.total_t/self.totalwords)\n",
    "            prob_zero=math.log10(self.total_z/self.totalwords)\n",
    "            prob_three=math.log10(self.total_tr/self.totalwords)\n",
    "            prob_four=math.log10(self.total_f/self.totalwords)\n",
    "            return prob_zero,prob_one,prob_two,prob_three,prob_four\n",
    "        \n",
    "        \n",
    "    def likelihood(self):\n",
    "          '''\n",
    "          calculates the log likelihood of each word given a class by taking the \n",
    "          log probability of each word occuring in a given score after applying laplacian smoothing\n",
    "          '''\n",
    "        \n",
    "          if self.num == 3:\n",
    "            ld=copy.deepcopy(self.s_f)\n",
    "\n",
    "            for k,v in ld.items():\n",
    "\n",
    "              if k==1:\n",
    "                  for kk,vv in ld[k].items():\n",
    "                    v[kk]=math.log10((v[kk]+1)/(self.total_o+self.V))\n",
    "\n",
    "              elif k==2:\n",
    "                  for kk,vv in  ld[k].items():\n",
    "                    v[kk]= math.log10((v[kk]+1)/(self.total_t+self.V))\n",
    "              elif k==0:\n",
    "                  for kk,vv in ld[k].items():\n",
    "                    v[kk]=math.log10((v[kk]+1)/(self.total_z+self.V))\n",
    "            return dict(ld)\n",
    "          if self.num == 5:\n",
    "            ld=copy.deepcopy(self.s_f)\n",
    "\n",
    "            for k,v in ld.items():\n",
    "\n",
    "              if k==1:\n",
    "                  for kk,vv in ld[k].items():\n",
    "                    v[kk]=math.log10((v[kk]+1)/(self.total_o+self.V))\n",
    "              elif k==2:\n",
    "                  for kk,vv in ld[k].items():\n",
    "                    v[kk]= math.log10((v[kk]+1)/(self.total_t+self.V))\n",
    "              elif k==0:\n",
    "                  for kk,vv in ld[k].items():\n",
    "                    v[kk]=math.log10((v[kk]+1)/(self.total_z+self.V))\n",
    "              elif k==3:\n",
    "                  for kk,vv in ld[k].items():\n",
    "                    v[kk]=math.log10((v[kk]+1)/(self.total_tr+self.V))\n",
    "              elif k==4:\n",
    "                  for kk,vv in ld[k].items():\n",
    "                    v[kk]= math.log10((v[kk]+1)/(self.total_f+self.V))\n",
    "            return dict(ld)\n",
    "        "
   ]
  },
  {
   "cell_type": "code",
   "execution_count": 74,
   "metadata": {},
   "outputs": [],
   "source": [
    "class classifier:\n",
    "    def  __init__(self,dev,i_sd=None,*args):\n",
    "        '''\n",
    "        parameters\n",
    "        dev: dictionary of dev or test data {id:{word:count}}\n",
    "        i_sd: {id:true sentiment} dictionary of dev data, used to calculate number of correct predictions\n",
    "        *args: argument parameters of the bayesian class\n",
    "            num: classes 3 or 5\n",
    "            sentiment_feature: {score:{word:count}} dictionary of test data\n",
    "            word_u : unique words in the train data. Used for laplacian smoothing         \n",
    "        '''\n",
    "        self.dev=dev\n",
    "        self.i_sd=i_sd\n",
    "        self.bayes=bayesian(*args)\n",
    "        self.a=self.bayes.s_f\n",
    "        self.num = self.bayes.num\n",
    "        if self.i_sd is not None:\n",
    "          self.i_sdlen=len(list(i_sd.items()))\n",
    "          self.id_sentd=np.transpose(np.array(list(i_sd.items())))[1,:]\n",
    "        self.V=self.bayes.V\n",
    "               \n",
    "        #calculates the posterior probability of class given review for each class\n",
    "        # posterior probabilies are stored in a 1d matrix for each class and then stacked and  argmax\n",
    "        #is applied to find the greatest posterior probability out of all the classes\n",
    "        #review is then assigned the class label with the greatest posterior probability\n",
    "        if self.num == 3:\n",
    "        \n",
    "          self.p0,self.p1,self.p2=self.bayes.priors()\n",
    "          self.total_z,self.total_o,self.total_t = self.bayes.total() \n",
    "          self.post0=self.posterior(self.p0,0)[1,:]\n",
    "          self.post1=self.posterior(self.p1,1)[1,:]\n",
    "          self.post2=self.posterior(self.p2,2)[1,:]\n",
    "          self.testLabels=[int(label) for label in self.posterior(self.p2,2)[0,:]]\n",
    "          self.matrix=np.vstack((self.post0,self.post1,self.post2))\n",
    "          self.results=np.argmax(self.matrix,axis=0)\n",
    "          self.testzip=list(zip(self.testLabels,self.results))\n",
    "          if self.i_sd is not None:\n",
    "            self.confusion_matrix=self.confusion()\n",
    "        \n",
    "        \n",
    "        elif self.num == 5:\n",
    "          self.p0,self.p1,self.p2,self.p3,self.p4=self.bayes.priors()\n",
    "          self.total_z,self.total_o, self.total_t , self.total_tr,self.total_f = self.bayes.total()  \n",
    "          self.post0=self.posterior(self.p0,0)[1,:]\n",
    "          self.post1=self.posterior(self.p1,1)[1,:]\n",
    "          self.post2=self.posterior(self.p2,2)[1,:]\n",
    "          self.post3=self.posterior(self.p3,3)[1,:]\n",
    "          self.post4=self.posterior(self.p4,4)[1,:]\n",
    "          self.testLabels=[int(label) for label in self.posterior(self.p2,2)[0,:]]\n",
    "          self.matrix=np.vstack((self.post0,self.post1,self.post2,self.post3,self.post4))\n",
    "          self.results=np.argmax(self.matrix,axis=0)\n",
    "          self.testzip=list(zip(self.testLabels,self.results))\n",
    "          if self.i_sd is not None:\n",
    "            self.confusion_matrix=self.confusion()     \n",
    "            \n",
    "    def posterior(self,prior,score):\n",
    "          '''\n",
    "          calculates the posterior probability of a class given a review by multiplying the likelihood\n",
    "          of a review given a class and the prior of a class\n",
    "          if word in test or dev is not in the likelihood dictionary, apply laplacian smoothing\n",
    "          \n",
    "          parameters\n",
    "          prior: prior probability of class\n",
    "          score: class number\n",
    "          '''\n",
    "          \n",
    "          ld=copy.deepcopy(self.bayes.ld)\n",
    "          m=copy.deepcopy(self.dev)\n",
    "          \n",
    "   \n",
    "          if self.num ==3:\n",
    "            total_list=[self.total_z,self.total_o,self.total_t]\n",
    "          elif self.num==5:\n",
    "            \n",
    "            total_list=[self.total_z,self.total_o,self.total_t,self.total_tr,self.total_f]\n",
    "          \n",
    "          for k,v in ld[score].items():\n",
    "            for key,val in m.items():\n",
    "                for kk,vv in val.items():\n",
    "                    if k ==kk:\n",
    "                        val[kk]= float(vv)*v\n",
    "          for k,v in m.items():\n",
    "            for kk,vv in v.items():\n",
    "              if kk not in ld[score].keys():\n",
    "                v[kk]=math.log10(1/(total_list[score]+self.V))\n",
    "          g={}\n",
    "          for k,v in m.items():\n",
    "            for kk,vv in v.items():\n",
    "              g[k]=np.sum(list(v.values()))+float(prior)\n",
    "          \n",
    "      \n",
    "          return np.transpose(np.array(list(g.items())))\n",
    "    \n",
    "\n",
    "    \n",
    "    def confusion(self):\n",
    "        if self.num ==3:\n",
    "          cm=np.zeros((3,3))\n",
    "        elif self.num ==5:\n",
    "    \n",
    "          cm=np.zeros((5,5))\n",
    "\n",
    "        for i in range(self.i_sdlen):\n",
    "          cm[int(self.results[i])][int(self.id_sentd[i])]+=1\n",
    "        return cm\n",
    "          "
   ]
  },
  {
   "cell_type": "code",
   "execution_count": 75,
   "metadata": {},
   "outputs": [],
   "source": [
    "def prf(m):\n",
    "    '''\n",
    "    calculates recall,precision and accuracy  3 class model\n",
    "    parameter\n",
    "    m:confusion matrix\n",
    "    '''\n",
    "\n",
    "    print(m)\n",
    "    ac=(m[0][0]+m[1][1]+m[2][2])/1000\n",
    "    print('Accuracy : '+ str(ac))\n",
    "    for row in range(len(m)):\n",
    "         print( 'precision of class '+ str(row)+': '+ str(round(m[row][row]/np.sum(m[row]),2)))\n",
    "    for row in range(len(m)):\n",
    "            \n",
    "    \n",
    "         print( 'recall of class '+ str(row)+': '+ str(round(m[row][row]/np.sum(m[:,row],axis=0),2)))      \n",
    "\n",
    "    return\n",
    "\n",
    "def prf5(m):\n",
    "    '''\n",
    "    calculates recall,precision and accuracy of 5 class model\n",
    "    parameter\n",
    "    m:confusion matrix\n",
    "    '''\n",
    "    print(m)\n",
    "    ac=(m[0][0]+m[1][1]+m[2][2]+m[3][3]+m[4][4])/1000\n",
    "    print('Accuracy : '+ str(ac))\n",
    "    \n",
    "    for row in range(len(m)):\n",
    "        if np.sum(m[row])>0:\n",
    "            print( 'precision of class '+ str(row)+': '+ str(round(m[row][row]/np.sum(m[row]),2)))\n",
    "        else:\n",
    "            print( 'precision of class '+ str(row)+': '+ str(0))\n",
    "            \n",
    "    for row in range(len(m)):\n",
    "        if m[row][row]>0:\n",
    "            print( 'recall of class '+ str(row)+': '+ str(round(m[row][row]/np.sum(m[:,row],axis=0),2)))\n",
    "        else:\n",
    "            print( 'recall of class '+ str(row)+': '+ str(0))\n",
    "            \n",
    "    return  "
   ]
  },
  {
   "cell_type": "code",
   "execution_count": 76,
   "metadata": {},
   "outputs": [],
   "source": [
    "import seaborn as sns"
   ]
  },
  {
   "cell_type": "code",
   "execution_count": 77,
   "metadata": {},
   "outputs": [
    {
     "data": {
      "image/png": "[encoded data removed]",
      "text/plain": [
       "<Figure size 432x288 with 2 Axes>"
      ]
     },
     "metadata": {
      "needs_background": "light"
     },
     "output_type": "display_data"
    }
   ],
   "source": [
    "#############Dev data 3 classes with no preprocessing###############\n",
    "# Get the dictionaries from the model class and then use them as paramters for the classifier class\n",
    "#classifier class calls  the bayesian class\n",
    "\n",
    "# Full 3 score  model \n",
    "\n",
    "model3=model(3,0,False,'dev')\n",
    "\n",
    "#{id:{word:count}}\n",
    "s_p3=model3.sent_phrase\n",
    "#{id:sentiment} for train data\n",
    "id_s3=model3.id_senti_train\n",
    "#set of unique words that occur in the test data\n",
    "Unique_words3= model3.unique\n",
    "#print(Unique_words3)\n",
    "#print(model3.id_senti_train)\n",
    "\n",
    "\n",
    "\n",
    "#full 3 score  model with curated stop list(dev)\n",
    "#{id:{word:count}}\n",
    "id_phrase_dev3=model3.dev_c\n",
    "#{id:sentiment} for dev data(Gold label)\n",
    "id_senti_dev3=model3.id_senti\n",
    "\n",
    "\n",
    "c1=classifier(id_phrase_dev3,id_senti_dev3,3,s_p3,id_s3,Unique_words3)\n",
    "\n",
    "m1=c1.confusion_matrix\n",
    "ax = sns.heatmap(c1.confusion_matrix, annot=True)\n",
    "\n",
    "\n",
    "\n"
   ]
  },
  {
   "cell_type": "code",
   "execution_count": 78,
   "metadata": {},
   "outputs": [
    {
     "name": "stdout",
     "output_type": "stream",
     "text": [
      "3 class model with no stop list and no features removed\n",
      "[[239.  70.  38.]\n",
      " [  1.   0.   0.]\n",
      " [146. 111. 395.]]\n",
      "Accuracy : 0.634\n",
      "precision of class 0: 0.69\n",
      "precision of class 1: 0.0\n",
      "precision of class 2: 0.61\n",
      "recall of class 0: 0.62\n",
      "recall of class 1: 0.0\n",
      "recall of class 2: 0.91\n"
     ]
    }
   ],
   "source": [
    "\n",
    "print(\"3 class model with no stop list and no features removed\")\n",
    "\n",
    "prf(m1)"
   ]
  },
  {
   "cell_type": "code",
   "execution_count": 79,
   "metadata": {},
   "outputs": [
    {
     "data": {
      "image/png": "[encoded data removed]",
      "text/plain": [
       "<Figure size 432x288 with 2 Axes>"
      ]
     },
     "metadata": {
      "needs_background": "light"
     },
     "output_type": "display_data"
    }
   ],
   "source": [
    "#############Dev data 3 classes with Stoplist###############\n",
    "\n",
    "model3=model(3,0,True,'dev')\n",
    "\n",
    "#{id:{word:count}}\n",
    "s_p3=model3.sent_phrase\n",
    "#set of unique words that occur in the test data\n",
    "Unique_words3= model3.unique\n",
    "#print(Unique_words3)\n",
    "i_s3=model3.id_senti_train\n",
    "\n",
    "#full 3 score  model with curated stop list(dev)\n",
    "#{id:{word:count}}\n",
    "id_phrase_dev3=model3.dev_c\n",
    "#{id:score}\n",
    "id_senti_dev3=model3.id_senti\n",
    "\n",
    "\n",
    "c1=classifier(id_phrase_dev3,id_senti_dev3,3,s_p3,i_s3,Unique_words3)\n",
    "m2=c1.confusion_matrix\n",
    "ax = sns.heatmap(c1.confusion_matrix, annot=True)\n"
   ]
  },
  {
   "cell_type": "code",
   "execution_count": 80,
   "metadata": {},
   "outputs": [
    {
     "name": "stdout",
     "output_type": "stream",
     "text": [
      "3 class model with stop list applied\n",
      "[[276.  69.  50.]\n",
      " [  8.   3.   0.]\n",
      " [102. 109. 383.]]\n",
      "Accuracy : 0.662\n",
      "precision of class 0: 0.7\n",
      "precision of class 1: 0.27\n",
      "precision of class 2: 0.64\n",
      "recall of class 0: 0.72\n",
      "recall of class 1: 0.02\n",
      "recall of class 2: 0.88\n"
     ]
    }
   ],
   "source": [
    "print(\"3 class model with stop list applied\")\n",
    "prf(m2)"
   ]
  },
  {
   "cell_type": "code",
   "execution_count": 81,
   "metadata": {},
   "outputs": [
    {
     "data": {
      "image/png": "[encoded data removed]",
      "text/plain": [
       "<Figure size 432x288 with 2 Axes>"
      ]
     },
     "metadata": {
      "needs_background": "light"
     },
     "output_type": "display_data"
    }
   ],
   "source": [
    "#############Dev data 3 classes with 20 least common features removed ###############\n",
    "\n",
    "\n",
    "#reduced  3 score model with 20 least common features removed and curated stop list(train)\n",
    "reduced_model3= model(3,20,False,'dev')\n",
    "#total_r3= reduced_model3.word_total\n",
    "score_phrase3= reduced_model3.sent_phrase\n",
    "id_score3=reduced_model3.id_senti_train\n",
    "Unique_wordsr3= reduced_model3.unique\n",
    "\n",
    "\n",
    "#reduced  3 score model with 20 least common features removed and curated stop list(dev)\n",
    "id_phrase_devr3=reduced_model3.dev_c\n",
    "id_senti_devr3=reduced_model3.id_senti\n",
    "\n",
    "c2=classifier(id_phrase_devr3,id_senti_devr3,3,score_phrase3,id_score3,Unique_wordsr3)\n",
    "m3=c2.confusion_matrix\n",
    "\n",
    "ax1= sns.heatmap(c2.confusion_matrix, annot=True)"
   ]
  },
  {
   "cell_type": "code",
   "execution_count": 82,
   "metadata": {},
   "outputs": [
    {
     "name": "stdout",
     "output_type": "stream",
     "text": [
      "3 class model with 20 least common features removed\n",
      "[[239.  70.  38.]\n",
      " [  1.   0.   0.]\n",
      " [146. 111. 395.]]\n",
      "Accuracy : 0.634\n",
      "precision of class 0: 0.69\n",
      "precision of class 1: 0.0\n",
      "precision of class 2: 0.61\n",
      "recall of class 0: 0.62\n",
      "recall of class 1: 0.0\n",
      "recall of class 2: 0.91\n"
     ]
    }
   ],
   "source": [
    "print(\"3 class model with 20 least common features removed\")\n",
    "prf(m3)"
   ]
  },
  {
   "cell_type": "code",
   "execution_count": 83,
   "metadata": {},
   "outputs": [
    {
     "data": {
      "image/png": "[encoded data removed]",
      "text/plain": [
       "<Figure size 432x288 with 2 Axes>"
      ]
     },
     "metadata": {
      "needs_background": "light"
     },
     "output_type": "display_data"
    }
   ],
   "source": [
    "#############Dev data 3 classes with 20 least common features removed and Stoplist applied###############\n",
    "\n",
    "\n",
    "#reduced  3 score model with 20 least common features removed and curated stop list(train)\n",
    "reduced_model3= model(3,20,True,'dev')\n",
    "#total_r3= reduced_model3.word_total\n",
    "score_phrase3= reduced_model3.sent_phrase\n",
    "id_s3=reduced_model3.id_senti_train\n",
    "Unique_wordsr3= reduced_model3.unique\n",
    "\n",
    "\n",
    "#reduced  3 score model with 20 least common features removed and curated stop list(dev)\n",
    "id_phrase_devr3=reduced_model3.dev_c\n",
    "id_senti_devr3=reduced_model3.id_senti\n",
    "\n",
    "c2=classifier(id_phrase_devr3,id_senti_devr3,3,score_phrase3,id_s3,Unique_wordsr3)\n",
    "m4=c2.confusion_matrix\n",
    "\n",
    "ax1= sns.heatmap(c2.confusion_matrix, annot=True)\n",
    "\n",
    "import csv\n",
    "cols=[('SentenceId','Sentiment')]\n",
    "data=cols+c2.testzip\n",
    "with open(\"Predictions/dev_predictions_3classes_LIANG_WONG.tsv\", 'w', newline='') as f:\n",
    "       tsv_output = csv.writer(f, delimiter='\\t')\n",
    "       for i in data:\n",
    "         tsv_output.writerow(i)\n",
    "          "
   ]
  },
  {
   "cell_type": "code",
   "execution_count": 84,
   "metadata": {},
   "outputs": [
    {
     "name": "stdout",
     "output_type": "stream",
     "text": [
      "3 class model with 20 least common features removed and stop list applied\n",
      "[[276.  69.  50.]\n",
      " [  8.   3.   0.]\n",
      " [102. 109. 383.]]\n",
      "Accuracy : 0.662\n",
      "precision of class 0: 0.7\n",
      "precision of class 1: 0.27\n",
      "precision of class 2: 0.64\n",
      "recall of class 0: 0.72\n",
      "recall of class 1: 0.02\n",
      "recall of class 2: 0.88\n"
     ]
    }
   ],
   "source": [
    "print(\"3 class model with 20 least common features removed and stop list applied\")\n",
    "prf(m4)"
   ]
  },
  {
   "cell_type": "code",
   "execution_count": 85,
   "metadata": {},
   "outputs": [
    {
     "data": {
      "image/png": "[encoded data removed]",
      "text/plain": [
       "<Figure size 432x288 with 2 Axes>"
      ]
     },
     "metadata": {
      "needs_background": "light"
     },
     "output_type": "display_data"
    }
   ],
   "source": [
    "#############Dev data 5 classes###############\n",
    "\n",
    "model5=model(5,0,False,'dev')\n",
    "\n",
    "\n",
    "#full 5 score model\n",
    "\n",
    "s_p5=model5.sent_phrase\n",
    "#set of unique words\n",
    "Unique_words5= model5.unique\n",
    "i_s5=model5.id_senti_train\n",
    "\n",
    "id_phrase_dev5=model5.dev_c\n",
    "id_senti_dev5=model5.id_senti\n",
    "c3=classifier(id_phrase_dev5,id_senti_dev5,5,s_p5,i_s5,Unique_words5)\n",
    "m5=c3.confusion_matrix\n",
    "ax3 = sns.heatmap(c3.confusion_matrix, annot=True)\n"
   ]
  },
  {
   "cell_type": "code",
   "execution_count": 86,
   "metadata": {},
   "outputs": [
    {
     "name": "stdout",
     "output_type": "stream",
     "text": [
      "5 class model with no features removed and no stoplist applied\n",
      "[[  0.   0.   0.   0.   0.]\n",
      " [ 80. 152.  73.  47.  13.]\n",
      " [  2.   3.   3.   1.   0.]\n",
      " [ 51.  98. 105. 235. 137.]\n",
      " [  0.   0.   0.   0.   0.]]\n",
      "Accuracy : 0.39\n",
      "precision of class 0: 0\n",
      "precision of class 1: 0.42\n",
      "precision of class 2: 0.33\n",
      "precision of class 3: 0.38\n",
      "precision of class 4: 0\n",
      "recall of class 0: 0\n",
      "recall of class 1: 0.6\n",
      "recall of class 2: 0.02\n",
      "recall of class 3: 0.83\n",
      "recall of class 4: 0\n"
     ]
    }
   ],
   "source": [
    "print(\"5 class model with no features removed and no stoplist applied\")\n",
    "prf5(m5)\n",
    "#print(i_s5)\n"
   ]
  },
  {
   "cell_type": "code",
   "execution_count": 87,
   "metadata": {},
   "outputs": [
    {
     "data": {
      "image/png": "[encoded data removed]",
      "text/plain": [
       "<Figure size 432x288 with 2 Axes>"
      ]
     },
     "metadata": {
      "needs_background": "light"
     },
     "output_type": "display_data"
    }
   ],
   "source": [
    "#############Dev data 5 classes with stoplist###############\n",
    "\n",
    "model5=model(5,0,True,'dev')\n",
    "\n",
    "\n",
    "#full 5 score model\n",
    "\n",
    "s_p5=model5.sent_phrase\n",
    "#set of unique words\n",
    "Unique_words5= model5.unique\n",
    "i_s5=model5.id_senti_train\n",
    "\n",
    "id_phrase_dev5=model5.dev_c\n",
    "id_senti_dev5=model5.id_senti\n",
    "c3=classifier(id_phrase_dev5,id_senti_dev5,5,s_p5,i_s5,Unique_words5)\n",
    "m7=c3.confusion_matrix\n",
    "ax3 = sns.heatmap(c3.confusion_matrix, annot=True)\n"
   ]
  },
  {
   "cell_type": "code",
   "execution_count": 88,
   "metadata": {},
   "outputs": [
    {
     "name": "stdout",
     "output_type": "stream",
     "text": [
      "5 class model with stop list applied\n",
      "[[  4.   2.   2.   2.   0.]\n",
      " [ 91. 167.  73.  52.  11.]\n",
      " [  6.  10.  11.   3.   3.]\n",
      " [ 32.  72.  92. 222. 120.]\n",
      " [  0.   2.   3.   4.  16.]]\n",
      "Accuracy : 0.42\n",
      "precision of class 0: 0.4\n",
      "precision of class 1: 0.42\n",
      "precision of class 2: 0.33\n",
      "precision of class 3: 0.41\n",
      "precision of class 4: 0.64\n",
      "recall of class 0: 0.03\n",
      "recall of class 1: 0.66\n",
      "recall of class 2: 0.06\n",
      "recall of class 3: 0.78\n",
      "recall of class 4: 0.11\n"
     ]
    }
   ],
   "source": [
    "print(\"5 class model with stop list applied\")\n",
    "prf5(m7)"
   ]
  },
  {
   "cell_type": "code",
   "execution_count": 89,
   "metadata": {},
   "outputs": [
    {
     "data": {
      "image/png": "[encoded data removed]",
      "text/plain": [
       "<Figure size 432x288 with 2 Axes>"
      ]
     },
     "metadata": {
      "needs_background": "light"
     },
     "output_type": "display_data"
    }
   ],
   "source": [
    "#############Dev data 5 classes with 20 least common features removed ###############\n",
    "\n",
    "model5=model(5,20,False,'dev')\n",
    "\n",
    "#full 5 score model\n",
    "\n",
    "s_p5=model5.sent_phrase\n",
    "#set of unique words\n",
    "Unique_words5= model5.unique\n",
    "i_s5=model5.id_senti_train\n",
    "\n",
    "id_phrase_dev5=model5.dev_c\n",
    "id_senti_dev5=model5.id_senti\n",
    "c3=classifier(id_phrase_dev5,id_senti_dev5,5,s_p5,i_s5,Unique_words5)\n",
    "m8=c3.confusion_matrix\n",
    "ax3 = sns.heatmap(c3.confusion_matrix, annot=True)\n"
   ]
  },
  {
   "cell_type": "code",
   "execution_count": 90,
   "metadata": {},
   "outputs": [
    {
     "name": "stdout",
     "output_type": "stream",
     "text": [
      "5 class model with 20 least common features removed\n",
      "[[  0.   0.   0.   0.   0.]\n",
      " [ 80. 152.  73.  48.  13.]\n",
      " [  2.   3.   3.   1.   0.]\n",
      " [ 51.  98. 105. 234. 137.]\n",
      " [  0.   0.   0.   0.   0.]]\n",
      "Accuracy : 0.389\n",
      "precision of class 0: 0\n",
      "precision of class 1: 0.42\n",
      "precision of class 2: 0.33\n",
      "precision of class 3: 0.37\n",
      "precision of class 4: 0\n",
      "recall of class 0: 0\n",
      "recall of class 1: 0.6\n",
      "recall of class 2: 0.02\n",
      "recall of class 3: 0.83\n",
      "recall of class 4: 0\n"
     ]
    }
   ],
   "source": [
    "print(\"5 class model with 20 least common features removed\")\n",
    "prf5(m8)"
   ]
  },
  {
   "cell_type": "code",
   "execution_count": 1,
   "metadata": {},
   "outputs": [
    {
     "ename": "NameError",
     "evalue": "name 'model' is not defined",
     "output_type": "error",
     "traceback": [
      "\u001b[1;31m---------------------------------------------------------------------------\u001b[0m",
      "\u001b[1;31mNameError\u001b[0m                                 Traceback (most recent call last)",
      "Cell \u001b[1;32mIn[1], line 4\u001b[0m\n\u001b[0;32m      1\u001b[0m \u001b[38;5;66;03m#############Dev data 5 classes and stoplist and 20 features removed###############\u001b[39;00m\n\u001b[0;32m      2\u001b[0m \n\u001b[0;32m      3\u001b[0m \u001b[38;5;66;03m#reduced 5 score model with 20 least common features removed and curated stop list(train)\u001b[39;00m\n\u001b[1;32m----> 4\u001b[0m reduced_model5\u001b[38;5;241m=\u001b[39m\u001b[43mmodel\u001b[49m(\u001b[38;5;241m5\u001b[39m,\u001b[38;5;241m20\u001b[39m,\u001b[38;5;28;01mTrue\u001b[39;00m,\u001b[38;5;124m'\u001b[39m\u001b[38;5;124mdev\u001b[39m\u001b[38;5;124m'\u001b[39m)\n\u001b[0;32m      6\u001b[0m s_pr5\u001b[38;5;241m=\u001b[39m reduced_model5\u001b[38;5;241m.\u001b[39msent_phrase\n\u001b[0;32m      7\u001b[0m i_sr5\u001b[38;5;241m=\u001b[39m reduced_model5\u001b[38;5;241m.\u001b[39mid_senti_train\n",
      "\u001b[1;31mNameError\u001b[0m: name 'model' is not defined"
     ]
    }
   ],
   "source": [
    "#############Dev data 5 classes and stoplist and 20 features removed###############\n",
    "\n",
    "#reduced 5 score model with 20 least common features removed and curated stop list(train)\n",
    "reduced_model5=model(5,20,True,'dev')\n",
    "\n",
    "s_pr5= reduced_model5.sent_phrase\n",
    "i_sr5= reduced_model5.id_senti_train\n",
    "Unique_wordsr5= reduced_model5.unique\n",
    "\n",
    "#reduced  5 score model with 65 least common features removed and curated stop list(dev)\n",
    "id_phrase_devr5=reduced_model5.dev_c\n",
    "id_senti_devr5=reduced_model5.id_senti\n",
    "c5=classifier(id_phrase_devr5,id_senti_devr5,5,s_pr5,i_sr5,Unique_wordsr5)\n",
    "m6=c5.confusion_matrix\n",
    "\n",
    "ax5= sns.heatmap(c5.confusion_matrix, annot=True)\n",
    "\n",
    "\n",
    "import csv\n",
    "cols=[('SentenceId','Sentiment')]\n",
    "data=cols+c5.testzip\n",
    "with open(\"Predictions/dev_predictions_5classes_Liang_WONG.tsv\", 'w', newline='') as f:\n",
    "       tsv_output = csv.writer(f, delimiter='\\t')\n",
    "       for i in data:\n",
    "         tsv_output.writerow(i)\n"
   ]
  },
  {
   "cell_type": "code",
   "execution_count": 92,
   "metadata": {},
   "outputs": [
    {
     "name": "stdout",
     "output_type": "stream",
     "text": [
      "5 class model with stoplist applied and 20 least common features removed\n",
      "[[  4.   2.   2.   2.   0.]\n",
      " [ 91. 167.  73.  52.  11.]\n",
      " [  6.  10.  11.   3.   3.]\n",
      " [ 32.  72.  92. 222. 120.]\n",
      " [  0.   2.   3.   4.  16.]]\n",
      "Accuracy : 0.42\n",
      "precision of class 0: 0.4\n",
      "precision of class 1: 0.42\n",
      "precision of class 2: 0.33\n",
      "precision of class 3: 0.41\n",
      "precision of class 4: 0.64\n",
      "recall of class 0: 0.03\n",
      "recall of class 1: 0.66\n",
      "recall of class 2: 0.06\n",
      "recall of class 3: 0.78\n",
      "recall of class 4: 0.11\n"
     ]
    }
   ],
   "source": [
    "print(\"5 class model with stoplist applied and 20 least common features removed\")\n",
    "prf5(m6)"
   ]
  },
  {
   "cell_type": "code",
   "execution_count": 93,
   "metadata": {},
   "outputs": [],
   "source": [
    "########test data 3 classes##########\n",
    "#uses the  model with 20 least common features removed and a curated stoplist\n",
    "modelt3=model(3,20,True,'test')\n",
    "id_phrase_testr3=modelt3.dev_c\n",
    "i_st=modelt3.id_senti_train\n",
    "Unique_wordst3=modelt3.unique\n",
    "s_prt3=modelt3.sent_phrase\n",
    "\n",
    "\n",
    "ct=classifier(id_phrase_testr3,None,3,s_prt3,i_st,Unique_wordst3)\n",
    "cols=[('SentenceId','Sentiment')]\n",
    "data=cols+ct.testzip\n",
    "with open(\"Predictions/test_predictions_3classes_Liang_WONG.tsv\", 'w', newline='') as f:\n",
    "       tsv_output = csv.writer(f, delimiter='\\t')\n",
    "       for i in data:\n",
    "         tsv_output.writerow(i)"
   ]
  },
  {
   "cell_type": "code",
   "execution_count": 94,
   "metadata": {},
   "outputs": [],
   "source": [
    "########test data 5 classes##########\n",
    "#uses the  model with 20 least common features removed and a curated stoplist\n",
    "modelt5=model(5,20,True,'test')\n",
    "id_phrase_testr5=modelt5.dev_c\n",
    "Unique_wordst5=modelt5.unique\n",
    "s_prt5= modelt5.sent_phrase\n",
    "i_st5=modelt5.id_senti_train\n",
    "\n",
    "ct5=classifier(id_phrase_testr5,None,5,s_prt5,i_st5,Unique_wordst5) \n",
    "cols=[('SentenceId','Sentiment')]\n",
    "data=cols+ct5.testzip\n",
    "\n",
    "\n",
    "with open(\"Predictions/test_predictions_5classes_Liang_WONG.tsv\", 'w', newline='') as f:\n",
    "       tsv_output = csv.writer(f, delimiter='\\t')\n",
    "       for i in data:\n",
    "         tsv_output.writerow(i)\n",
    "            "
   ]
  },
  {
   "cell_type": "code",
   "execution_count": null,
   "metadata": {},
   "outputs": [],
   "source": []
  },
  {
   "cell_type": "code",
   "execution_count": null,
   "metadata": {},
   "outputs": [],
   "source": []
  },
  {
   "cell_type": "code",
   "execution_count": null,
   "metadata": {},
   "outputs": [],
   "source": []
  },
  {
   "cell_type": "code",
   "execution_count": null,
   "metadata": {},
   "outputs": [],
   "source": []
  },
  {
   "cell_type": "code",
   "execution_count": null,
   "metadata": {},
   "outputs": [],
   "source": []
  }
 ],
 "metadata": {
  "kernelspec": {
   "display_name": "Python 3 (ipykernel)",
   "language": "python",
   "name": "python3"
  },
  "language_info": {
   "codemirror_mode": {
    "name": "ipython",
    "version": 3
   },
   "file_extension": ".py",
   "mimetype": "text/x-python",
   "name": "python",
   "nbconvert_exporter": "python",
   "pygments_lexer": "ipython3",
   "version": "3.10.9"
  }
 },
 "nbformat": 4,
 "nbformat_minor": 4
}
